{
  "nbformat": 4,
  "nbformat_minor": 0,
  "metadata": {
    "colab": {
      "name": "data_preprocessing.ipynb",
      "provenance": [],
      "collapsed_sections": [],
      "authorship_tag": "ABX9TyPvoeekid/bbKTpqdbKLv7n",
      "include_colab_link": true
    },
    "kernelspec": {
      "name": "python3",
      "display_name": "Python 3"
    }
  },
  "cells": [
    {
      "cell_type": "markdown",
      "metadata": {
        "id": "view-in-github",
        "colab_type": "text"
      },
      "source": [
        "<a href=\"https://colab.research.google.com/github/neermesh/dataPreprocessing/blob/master/data_preprocessing.ipynb\" target=\"_parent\"><img src=\"https://colab.research.google.com/assets/colab-badge.svg\" alt=\"Open In Colab\"/></a>"
      ]
    },
    {
      "cell_type": "code",
      "metadata": {
        "id": "kurcbnHCdqjx",
        "colab_type": "code",
        "outputId": "7ef8cf9a-54fe-4160-b88e-ae0a8fad4d6c",
        "colab": {
          "base_uri": "https://localhost:8080/",
          "height": 64
        }
      },
      "source": [
        "import numpy as np\n",
        "import pandas as pd\n",
        "import tensorflow.compat.v1 as tf\n",
        "import matplotlib.pyplot as plt"
      ],
      "execution_count": 1,
      "outputs": [
        {
          "output_type": "display_data",
          "data": {
            "text/html": [
              "<p style=\"color: red;\">\n",
              "The default version of TensorFlow in Colab will soon switch to TensorFlow 2.x.<br>\n",
              "We recommend you <a href=\"https://www.tensorflow.org/guide/migrate\" target=\"_blank\">upgrade</a> now \n",
              "or ensure your notebook will continue to use TensorFlow 1.x via the <code>%tensorflow_version 1.x</code> magic:\n",
              "<a href=\"https://colab.research.google.com/notebooks/tensorflow_version.ipynb\" target=\"_blank\">more info</a>.</p>\n"
            ],
            "text/plain": [
              "<IPython.core.display.HTML object>"
            ]
          },
          "metadata": {
            "tags": []
          }
        }
      ]
    },
    {
      "cell_type": "code",
      "metadata": {
        "id": "tkAThPyAdqn6",
        "colab_type": "code",
        "colab": {}
      },
      "source": [
        ""
      ],
      "execution_count": 0,
      "outputs": []
    },
    {
      "cell_type": "code",
      "metadata": {
        "id": "JiS5M5ucdqrK",
        "colab_type": "code",
        "colab": {}
      },
      "source": [
        ""
      ],
      "execution_count": 0,
      "outputs": []
    },
    {
      "cell_type": "code",
      "metadata": {
        "id": "qF3XAnEXtM-l",
        "colab_type": "code",
        "colab": {}
      },
      "source": [
        "from pandas_datareader import data as pdr\n",
        "data = pdr.get_data_yahoo('CIPLA.NS')  "
      ],
      "execution_count": 0,
      "outputs": []
    },
    {
      "cell_type": "code",
      "metadata": {
        "id": "aEMFL-lWtcnA",
        "colab_type": "code",
        "outputId": "ba5cf88a-f134-4fa9-85c3-a45255fce2e2",
        "colab": {
          "base_uri": "https://localhost:8080/",
          "height": 455
        }
      },
      "source": [
        "data"
      ],
      "execution_count": 3,
      "outputs": [
        {
          "output_type": "execute_result",
          "data": {
            "text/html": [
              "<div>\n",
              "<style scoped>\n",
              "    .dataframe tbody tr th:only-of-type {\n",
              "        vertical-align: middle;\n",
              "    }\n",
              "\n",
              "    .dataframe tbody tr th {\n",
              "        vertical-align: top;\n",
              "    }\n",
              "\n",
              "    .dataframe thead th {\n",
              "        text-align: right;\n",
              "    }\n",
              "</style>\n",
              "<table border=\"1\" class=\"dataframe\">\n",
              "  <thead>\n",
              "    <tr style=\"text-align: right;\">\n",
              "      <th></th>\n",
              "      <th>High</th>\n",
              "      <th>Low</th>\n",
              "      <th>Open</th>\n",
              "      <th>Close</th>\n",
              "      <th>Volume</th>\n",
              "      <th>Adj Close</th>\n",
              "    </tr>\n",
              "    <tr>\n",
              "      <th>Date</th>\n",
              "      <th></th>\n",
              "      <th></th>\n",
              "      <th></th>\n",
              "      <th></th>\n",
              "      <th></th>\n",
              "      <th></th>\n",
              "    </tr>\n",
              "  </thead>\n",
              "  <tbody>\n",
              "    <tr>\n",
              "      <th>2010-01-04</th>\n",
              "      <td>339.500000</td>\n",
              "      <td>336.000000</td>\n",
              "      <td>338.000000</td>\n",
              "      <td>337.549988</td>\n",
              "      <td>635013.0</td>\n",
              "      <td>319.540070</td>\n",
              "    </tr>\n",
              "    <tr>\n",
              "      <th>2010-01-05</th>\n",
              "      <td>342.399994</td>\n",
              "      <td>330.500000</td>\n",
              "      <td>338.549988</td>\n",
              "      <td>331.500000</td>\n",
              "      <td>1664976.0</td>\n",
              "      <td>313.812958</td>\n",
              "    </tr>\n",
              "    <tr>\n",
              "      <th>2010-01-06</th>\n",
              "      <td>348.899994</td>\n",
              "      <td>330.350006</td>\n",
              "      <td>332.000000</td>\n",
              "      <td>344.899994</td>\n",
              "      <td>3580916.0</td>\n",
              "      <td>326.497986</td>\n",
              "    </tr>\n",
              "    <tr>\n",
              "      <th>2010-01-07</th>\n",
              "      <td>350.399994</td>\n",
              "      <td>340.500000</td>\n",
              "      <td>346.000000</td>\n",
              "      <td>342.049988</td>\n",
              "      <td>1555841.0</td>\n",
              "      <td>323.800049</td>\n",
              "    </tr>\n",
              "    <tr>\n",
              "      <th>2010-01-08</th>\n",
              "      <td>346.500000</td>\n",
              "      <td>340.200012</td>\n",
              "      <td>345.000000</td>\n",
              "      <td>341.100006</td>\n",
              "      <td>913410.0</td>\n",
              "      <td>322.900757</td>\n",
              "    </tr>\n",
              "    <tr>\n",
              "      <th>...</th>\n",
              "      <td>...</td>\n",
              "      <td>...</td>\n",
              "      <td>...</td>\n",
              "      <td>...</td>\n",
              "      <td>...</td>\n",
              "      <td>...</td>\n",
              "    </tr>\n",
              "    <tr>\n",
              "      <th>2020-01-21</th>\n",
              "      <td>479.549988</td>\n",
              "      <td>472.200012</td>\n",
              "      <td>478.950012</td>\n",
              "      <td>473.399994</td>\n",
              "      <td>1448808.0</td>\n",
              "      <td>473.399994</td>\n",
              "    </tr>\n",
              "    <tr>\n",
              "      <th>2020-01-22</th>\n",
              "      <td>480.299988</td>\n",
              "      <td>470.250000</td>\n",
              "      <td>474.500000</td>\n",
              "      <td>471.600006</td>\n",
              "      <td>2380518.0</td>\n",
              "      <td>471.600006</td>\n",
              "    </tr>\n",
              "    <tr>\n",
              "      <th>2020-01-23</th>\n",
              "      <td>475.850006</td>\n",
              "      <td>459.350006</td>\n",
              "      <td>464.500000</td>\n",
              "      <td>465.149994</td>\n",
              "      <td>5783699.0</td>\n",
              "      <td>465.149994</td>\n",
              "    </tr>\n",
              "    <tr>\n",
              "      <th>2020-01-27</th>\n",
              "      <td>466.500000</td>\n",
              "      <td>454.200012</td>\n",
              "      <td>457.500000</td>\n",
              "      <td>464.450012</td>\n",
              "      <td>5848968.0</td>\n",
              "      <td>464.450012</td>\n",
              "    </tr>\n",
              "    <tr>\n",
              "      <th>2020-01-28</th>\n",
              "      <td>468.000000</td>\n",
              "      <td>458.950012</td>\n",
              "      <td>465.000000</td>\n",
              "      <td>464.250000</td>\n",
              "      <td>1032549.0</td>\n",
              "      <td>464.250000</td>\n",
              "    </tr>\n",
              "  </tbody>\n",
              "</table>\n",
              "<p>2480 rows × 6 columns</p>\n",
              "</div>"
            ],
            "text/plain": [
              "                  High         Low  ...     Volume   Adj Close\n",
              "Date                                ...                       \n",
              "2010-01-04  339.500000  336.000000  ...   635013.0  319.540070\n",
              "2010-01-05  342.399994  330.500000  ...  1664976.0  313.812958\n",
              "2010-01-06  348.899994  330.350006  ...  3580916.0  326.497986\n",
              "2010-01-07  350.399994  340.500000  ...  1555841.0  323.800049\n",
              "2010-01-08  346.500000  340.200012  ...   913410.0  322.900757\n",
              "...                ...         ...  ...        ...         ...\n",
              "2020-01-21  479.549988  472.200012  ...  1448808.0  473.399994\n",
              "2020-01-22  480.299988  470.250000  ...  2380518.0  471.600006\n",
              "2020-01-23  475.850006  459.350006  ...  5783699.0  465.149994\n",
              "2020-01-27  466.500000  454.200012  ...  5848968.0  464.450012\n",
              "2020-01-28  468.000000  458.950012  ...  1032549.0  464.250000\n",
              "\n",
              "[2480 rows x 6 columns]"
            ]
          },
          "metadata": {
            "tags": []
          },
          "execution_count": 3
        }
      ]
    },
    {
      "cell_type": "code",
      "metadata": {
        "id": "4J-tJtQolxIE",
        "colab_type": "code",
        "outputId": "e2c98adc-538b-456b-8352-0f955d29d144",
        "colab": {
          "base_uri": "https://localhost:8080/",
          "height": 34
        }
      },
      "source": [
        "data.shape"
      ],
      "execution_count": 4,
      "outputs": [
        {
          "output_type": "execute_result",
          "data": {
            "text/plain": [
              "(2480, 6)"
            ]
          },
          "metadata": {
            "tags": []
          },
          "execution_count": 4
        }
      ]
    },
    {
      "cell_type": "code",
      "metadata": {
        "id": "vHvYktO-l5JB",
        "colab_type": "code",
        "outputId": "58a33ad6-37c4-4911-feec-88c9396f8309",
        "colab": {
          "base_uri": "https://localhost:8080/",
          "height": 403
        }
      },
      "source": [
        "plt.plot(data.index, data['Adj Close'])\n",
        "plt.xlabel('Year')\n",
        "plt.ylabel('Price')\n",
        "plt.legend(['SPY'])\n",
        "plt.show()"
      ],
      "execution_count": 5,
      "outputs": [
        {
          "output_type": "stream",
          "text": [
            "/usr/local/lib/python3.6/dist-packages/pandas/plotting/_matplotlib/converter.py:103: FutureWarning: Using an implicitly registered datetime converter for a matplotlib plotting method. The converter was registered by pandas on import. Future versions of pandas will require you to explicitly register matplotlib converters.\n",
            "\n",
            "To register the converters:\n",
            "\t>>> from pandas.plotting import register_matplotlib_converters\n",
            "\t>>> register_matplotlib_converters()\n",
            "  warnings.warn(msg, FutureWarning)\n"
          ],
          "name": "stderr"
        },
        {
          "output_type": "display_data",
          "data": {
            "image/png": "[encoded data removed]",
            "text/plain": [
              "<Figure size 432x288 with 1 Axes>"
            ]
          },
          "metadata": {
            "tags": []
          }
        }
      ]
    },
    {
      "cell_type": "code",
      "metadata": {
        "id": "eV1grhqpl8-A",
        "colab_type": "code",
        "outputId": "7ffb2c1e-5559-4e69-e200-f7612939491f",
        "colab": {
          "base_uri": "https://localhost:8080/",
          "height": 382
        }
      },
      "source": [
        "#Check for normal distribution\n",
        "import scipy.stats as stats\n",
        "import pylab \n",
        "data['pct_chg'] = data['Adj Close'].pct_change()[1:]\n",
        "data.dropna(inplace=True, axis=0)\n",
        "\n",
        "stats.probplot(data['pct_chg'], dist=\"norm\", plot=pylab)\n"
      ],
      "execution_count": 6,
      "outputs": [
        {
          "output_type": "execute_result",
          "data": {
            "text/plain": [
              "((array([-3.45069891, -3.20360141, -3.06676894, ...,  3.06676894,\n",
              "          3.20360141,  3.45069891]),\n",
              "  array([-0.08825631, -0.07861905, -0.07255802, ...,  0.07106212,\n",
              "          0.07403819,  0.07624075])),\n",
              " (0.015377388802958875, 0.00027197479612712193, 0.985421683609324))"
            ]
          },
          "metadata": {
            "tags": []
          },
          "execution_count": 6
        },
        {
          "output_type": "display_data",
          "data": {
            "image/png": "[encoded data removed]",
            "text/plain": [
              "<Figure size 432x288 with 1 Axes>"
            ]
          },
          "metadata": {
            "tags": []
          }
        }
      ]
    },
    {
      "cell_type": "code",
      "metadata": {
        "id": "lv3Yyb3WmhpL",
        "colab_type": "code",
        "outputId": "1aaa024b-66de-4270-934e-b62cee6db29d",
        "colab": {
          "base_uri": "https://localhost:8080/",
          "height": 382
        }
      },
      "source": [
        "#Log transformation\n",
        "data['lrets'] = np.log(data['Adj Close']/data['Adj Close'].shift(1))\n",
        "data.dropna(inplace=True, axis=0)\n",
        "stats.probplot(data['lrets'], dist=\"norm\", plot=pylab)"
      ],
      "execution_count": 7,
      "outputs": [
        {
          "output_type": "execute_result",
          "data": {
            "text/plain": [
              "((array([-3.45059002, -3.20348525, -3.06664835, ...,  3.06664835,\n",
              "          3.20348525,  3.45059002]),\n",
              "  array([-0.09239637, -0.0818817 , -0.07532504, ...,  0.0686508 ,\n",
              "          0.07142556,  0.07347418])),\n",
              " (0.015363734265117676, 0.00015804118955682302, 0.9856012806991931))"
            ]
          },
          "metadata": {
            "tags": []
          },
          "execution_count": 7
        },
        {
          "output_type": "display_data",
          "data": {
            "image/png": "[encoded data removed]",
            "text/plain": [
              "<Figure size 432x288 with 1 Axes>"
            ]
          },
          "metadata": {
            "tags": []
          }
        }
      ]
    },
    {
      "cell_type": "code",
      "metadata": {
        "id": "mMMacZFgnjdy",
        "colab_type": "code",
        "colab": {}
      },
      "source": [
        "#MACD(Moving Average Convergence/Divergence oscillator)\n",
        "def MACD(df, period1, period2, periodSignal):\n",
        "    EMA1 = pd.DataFrame.ewm(df,span=period1).mean() # Provides exponential weighted functions\n",
        "    EMA2 = pd.DataFrame.ewm(df,span=period2).mean() \n",
        "    \n",
        "    MACD = EMA1-EMA2\n",
        "    Signal = pd.DataFrame.ewm(MACD,periodSignal).mean()\n",
        "    \n",
        "    Histogram = MACD-Signal\n",
        "    return Histogram"
      ],
      "execution_count": 0,
      "outputs": []
    },
    {
      "cell_type": "code",
      "metadata": {
        "id": "yA8EcN9Eo7O3",
        "colab_type": "code",
        "colab": {}
      },
      "source": [
        "#Stochastics oscillator\n",
        "def stochastics_oscillator(df,period):\n",
        "    l, h = pd.DataFrame.rolling(df, period).min(), pd.DataFrame.rolling(df, period).max()\n",
        "    k = 100 * (df - l) / (h - l)\n",
        "    return k"
      ],
      "execution_count": 0,
      "outputs": []
    },
    {
      "cell_type": "code",
      "metadata": {
        "id": "8EsWEST2pCTm",
        "colab_type": "code",
        "colab": {}
      },
      "source": [
        "#Average True Range\n",
        "def ATR(df,period):\n",
        "    '''\n",
        "    Method A: Current High less the current Low\n",
        "    '''\n",
        "    df['H-L'] = abs(df['High']-df['Low'])\n",
        "    df['H-PC'] = abs(df['High']-df['Close'].shift(1))\n",
        "    df['L-PC'] = abs(df['Low']-df['Close'].shift(1))\n",
        "    TR = df[['H-L','H-PC','L-PC']].max(axis=1)\n",
        "    return TR.to_frame()"
      ],
      "execution_count": 0,
      "outputs": []
    },
    {
      "cell_type": "code",
      "metadata": {
        "id": "2FMjogc-pJVV",
        "colab_type": "code",
        "outputId": "3a7a05b3-b6e0-4080-f1fb-1a1cf0b9c3dd",
        "colab": {
          "base_uri": "https://localhost:8080/",
          "height": 139
        }
      },
      "source": [
        "macd = MACD(data['Adj Close'], 12, 26,9)\n",
        "macd.rename(columns={'Close':'MACD'}, inplace=True)\n",
        "macd.tail()"
      ],
      "execution_count": 11,
      "outputs": [
        {
          "output_type": "execute_result",
          "data": {
            "text/plain": [
              "Date\n",
              "2020-01-21    0.469529\n",
              "2020-01-22   -0.144524\n",
              "2020-01-23   -1.062825\n",
              "2020-01-27   -1.752324\n",
              "2020-01-28   -2.220595\n",
              "dtype: float64"
            ]
          },
          "metadata": {
            "tags": []
          },
          "execution_count": 11
        }
      ]
    },
    {
      "cell_type": "code",
      "metadata": {
        "id": "RbR11KCvpRde",
        "colab_type": "code",
        "outputId": "36d478c0-1c89-4198-c6af-f75b9c21aeff",
        "colab": {
          "base_uri": "https://localhost:8080/",
          "height": 444
        }
      },
      "source": [
        "plt.figure(figsize=(21,7))\n",
        "plt.plot(macd,label='macd',color='red')\n",
        "plt.title('MACD')\n",
        "plt.legend(loc='upper left')\n",
        "plt.show()"
      ],
      "execution_count": 12,
      "outputs": [
        {
          "output_type": "display_data",
          "data": {
            "image/png": "[encoded data removed]",
            "text/plain": [
              "<Figure size 1512x504 with 1 Axes>"
            ]
          },
          "metadata": {
            "tags": []
          }
        }
      ]
    },
    {
      "cell_type": "code",
      "metadata": {
        "id": "m_goezxJpXQM",
        "colab_type": "code",
        "outputId": "5ee8ee57-014d-47fd-a900-43f932c8513e",
        "colab": {
          "base_uri": "https://localhost:8080/",
          "height": 139
        }
      },
      "source": [
        "stochastics = stochastics_oscillator(data['Adj Close'], 14)\n",
        "stochastics.rename(columns={'Close':'Stochastics'}, inplace=True)\n",
        "stochastics.tail()"
      ],
      "execution_count": 13,
      "outputs": [
        {
          "output_type": "execute_result",
          "data": {
            "text/plain": [
              "Date\n",
              "2020-01-21    44.358943\n",
              "2020-01-22    35.128236\n",
              "2020-01-23     2.051251\n",
              "2020-01-27     0.000000\n",
              "2020-01-28     0.000000\n",
              "dtype: float64"
            ]
          },
          "metadata": {
            "tags": []
          },
          "execution_count": 13
        }
      ]
    },
    {
      "cell_type": "code",
      "metadata": {
        "id": "GWTZSk5dpmBs",
        "colab_type": "code",
        "outputId": "a81ec4bf-375e-4062-f9f2-89e162389fc5",
        "colab": {
          "base_uri": "https://localhost:8080/",
          "height": 444
        }
      },
      "source": [
        "\n",
        "\n",
        "plt.figure(figsize=(21,7))\n",
        "plt.plot(stochastics[-100:],label='Stochastics Oscillator',color='blue')\n",
        "plt.title('Stochastics Oscillator')\n",
        "plt.legend(loc='upper left')\n",
        "plt.show()\n",
        "\n"
      ],
      "execution_count": 14,
      "outputs": [
        {
          "output_type": "display_data",
          "data": {
            "image/png": "[encoded data removed]",
            "text/plain": [
              "<Figure size 1512x504 with 1 Axes>"
            ]
          },
          "metadata": {
            "tags": []
          }
        }
      ]
    },
    {
      "cell_type": "code",
      "metadata": {
        "id": "2XfKqcUHppVr",
        "colab_type": "code",
        "outputId": "7d529e81-43a5-42fb-cda6-66f2c652a542",
        "colab": {
          "base_uri": "https://localhost:8080/",
          "height": 237
        }
      },
      "source": [
        "atr = ATR(data,14)\n",
        "atr.rename(columns={0:'ATR'}, inplace=True)\n",
        "atr.tail()"
      ],
      "execution_count": 15,
      "outputs": [
        {
          "output_type": "execute_result",
          "data": {
            "text/html": [
              "<div>\n",
              "<style scoped>\n",
              "    .dataframe tbody tr th:only-of-type {\n",
              "        vertical-align: middle;\n",
              "    }\n",
              "\n",
              "    .dataframe tbody tr th {\n",
              "        vertical-align: top;\n",
              "    }\n",
              "\n",
              "    .dataframe thead th {\n",
              "        text-align: right;\n",
              "    }\n",
              "</style>\n",
              "<table border=\"1\" class=\"dataframe\">\n",
              "  <thead>\n",
              "    <tr style=\"text-align: right;\">\n",
              "      <th></th>\n",
              "      <th>ATR</th>\n",
              "    </tr>\n",
              "    <tr>\n",
              "      <th>Date</th>\n",
              "      <th></th>\n",
              "    </tr>\n",
              "  </thead>\n",
              "  <tbody>\n",
              "    <tr>\n",
              "      <th>2020-01-21</th>\n",
              "      <td>7.949982</td>\n",
              "    </tr>\n",
              "    <tr>\n",
              "      <th>2020-01-22</th>\n",
              "      <td>10.049988</td>\n",
              "    </tr>\n",
              "    <tr>\n",
              "      <th>2020-01-23</th>\n",
              "      <td>16.500000</td>\n",
              "    </tr>\n",
              "    <tr>\n",
              "      <th>2020-01-27</th>\n",
              "      <td>12.299988</td>\n",
              "    </tr>\n",
              "    <tr>\n",
              "      <th>2020-01-28</th>\n",
              "      <td>9.049988</td>\n",
              "    </tr>\n",
              "  </tbody>\n",
              "</table>\n",
              "</div>"
            ],
            "text/plain": [
              "                  ATR\n",
              "Date                 \n",
              "2020-01-21   7.949982\n",
              "2020-01-22  10.049988\n",
              "2020-01-23  16.500000\n",
              "2020-01-27  12.299988\n",
              "2020-01-28   9.049988"
            ]
          },
          "metadata": {
            "tags": []
          },
          "execution_count": 15
        }
      ]
    },
    {
      "cell_type": "code",
      "metadata": {
        "id": "YFlT6HURqEQn",
        "colab_type": "code",
        "outputId": "3391dddc-53e4-41c1-eaf8-4e9190758d50",
        "colab": {
          "base_uri": "https://localhost:8080/",
          "height": 444
        }
      },
      "source": [
        "\n",
        "\n",
        "plt.figure(figsize=(21,7))\n",
        "plt.plot(atr[-100:],label='ATR',color='green')\n",
        "plt.title('Average True Range')\n",
        "plt.legend(loc='upper left')\n",
        "plt.show()\n",
        "\n"
      ],
      "execution_count": 16,
      "outputs": [
        {
          "output_type": "display_data",
          "data": {
            "image/png": "[encoded data removed]",
            "text/plain": [
              "<Figure size 1512x504 with 1 Axes>"
            ]
          },
          "metadata": {
            "tags": []
          }
        }
      ]
    },
    {
      "cell_type": "code",
      "metadata": {
        "id": "gcIQqzBbqG3W",
        "colab_type": "code",
        "colab": {}
      },
      "source": [
        "data = pd.concat([data, macd, stochastics, atr], axis=1)"
      ],
      "execution_count": 0,
      "outputs": []
    },
    {
      "cell_type": "code",
      "metadata": {
        "id": "ejR7TRguqL83",
        "colab_type": "code",
        "colab": {}
      },
      "source": [
        "data.rename(columns={0:'MACD', 1:'stochastics'}, inplace=True)"
      ],
      "execution_count": 0,
      "outputs": []
    },
    {
      "cell_type": "code",
      "metadata": {
        "id": "xDjwjUqYqObV",
        "colab_type": "code",
        "outputId": "81f8875a-6a93-4b1c-f93e-a276008911db",
        "colab": {
          "base_uri": "https://localhost:8080/",
          "height": 237
        }
      },
      "source": [
        "\n",
        "\n",
        "data.drop(['pct_chg', 'H-L', 'H-PC', 'L-PC'], axis=1 , inplace=True)\n",
        "data.tail()\n",
        "\n"
      ],
      "execution_count": 19,
      "outputs": [
        {
          "output_type": "execute_result",
          "data": {
            "text/html": [
              "<div>\n",
              "<style scoped>\n",
              "    .dataframe tbody tr th:only-of-type {\n",
              "        vertical-align: middle;\n",
              "    }\n",
              "\n",
              "    .dataframe tbody tr th {\n",
              "        vertical-align: top;\n",
              "    }\n",
              "\n",
              "    .dataframe thead th {\n",
              "        text-align: right;\n",
              "    }\n",
              "</style>\n",
              "<table border=\"1\" class=\"dataframe\">\n",
              "  <thead>\n",
              "    <tr style=\"text-align: right;\">\n",
              "      <th></th>\n",
              "      <th>High</th>\n",
              "      <th>Low</th>\n",
              "      <th>Open</th>\n",
              "      <th>Close</th>\n",
              "      <th>Volume</th>\n",
              "      <th>Adj Close</th>\n",
              "      <th>lrets</th>\n",
              "      <th>MACD</th>\n",
              "      <th>stochastics</th>\n",
              "      <th>ATR</th>\n",
              "    </tr>\n",
              "    <tr>\n",
              "      <th>Date</th>\n",
              "      <th></th>\n",
              "      <th></th>\n",
              "      <th></th>\n",
              "      <th></th>\n",
              "      <th></th>\n",
              "      <th></th>\n",
              "      <th></th>\n",
              "      <th></th>\n",
              "      <th></th>\n",
              "      <th></th>\n",
              "    </tr>\n",
              "  </thead>\n",
              "  <tbody>\n",
              "    <tr>\n",
              "      <th>2020-01-21</th>\n",
              "      <td>479.549988</td>\n",
              "      <td>472.200012</td>\n",
              "      <td>478.950012</td>\n",
              "      <td>473.399994</td>\n",
              "      <td>1448808.0</td>\n",
              "      <td>473.399994</td>\n",
              "      <td>-0.014158</td>\n",
              "      <td>0.469529</td>\n",
              "      <td>44.358943</td>\n",
              "      <td>7.949982</td>\n",
              "    </tr>\n",
              "    <tr>\n",
              "      <th>2020-01-22</th>\n",
              "      <td>480.299988</td>\n",
              "      <td>470.250000</td>\n",
              "      <td>474.500000</td>\n",
              "      <td>471.600006</td>\n",
              "      <td>2380518.0</td>\n",
              "      <td>471.600006</td>\n",
              "      <td>-0.003810</td>\n",
              "      <td>-0.144524</td>\n",
              "      <td>35.128236</td>\n",
              "      <td>10.049988</td>\n",
              "    </tr>\n",
              "    <tr>\n",
              "      <th>2020-01-23</th>\n",
              "      <td>475.850006</td>\n",
              "      <td>459.350006</td>\n",
              "      <td>464.500000</td>\n",
              "      <td>465.149994</td>\n",
              "      <td>5783699.0</td>\n",
              "      <td>465.149994</td>\n",
              "      <td>-0.013771</td>\n",
              "      <td>-1.062825</td>\n",
              "      <td>2.051251</td>\n",
              "      <td>16.500000</td>\n",
              "    </tr>\n",
              "    <tr>\n",
              "      <th>2020-01-27</th>\n",
              "      <td>466.500000</td>\n",
              "      <td>454.200012</td>\n",
              "      <td>457.500000</td>\n",
              "      <td>464.450012</td>\n",
              "      <td>5848968.0</td>\n",
              "      <td>464.450012</td>\n",
              "      <td>-0.001506</td>\n",
              "      <td>-1.752324</td>\n",
              "      <td>0.000000</td>\n",
              "      <td>12.299988</td>\n",
              "    </tr>\n",
              "    <tr>\n",
              "      <th>2020-01-28</th>\n",
              "      <td>468.000000</td>\n",
              "      <td>458.950012</td>\n",
              "      <td>465.000000</td>\n",
              "      <td>464.250000</td>\n",
              "      <td>1032549.0</td>\n",
              "      <td>464.250000</td>\n",
              "      <td>-0.000431</td>\n",
              "      <td>-2.220595</td>\n",
              "      <td>0.000000</td>\n",
              "      <td>9.049988</td>\n",
              "    </tr>\n",
              "  </tbody>\n",
              "</table>\n",
              "</div>"
            ],
            "text/plain": [
              "                  High         Low  ...  stochastics        ATR\n",
              "Date                                ...                        \n",
              "2020-01-21  479.549988  472.200012  ...    44.358943   7.949982\n",
              "2020-01-22  480.299988  470.250000  ...    35.128236  10.049988\n",
              "2020-01-23  475.850006  459.350006  ...     2.051251  16.500000\n",
              "2020-01-27  466.500000  454.200012  ...     0.000000  12.299988\n",
              "2020-01-28  468.000000  458.950012  ...     0.000000   9.049988\n",
              "\n",
              "[5 rows x 10 columns]"
            ]
          },
          "metadata": {
            "tags": []
          },
          "execution_count": 19
        }
      ]
    },
    {
      "cell_type": "code",
      "metadata": {
        "id": "v2R0a-evsAwg",
        "colab_type": "code",
        "colab": {}
      },
      "source": [
        ""
      ],
      "execution_count": 0,
      "outputs": []
    },
    {
      "cell_type": "code",
      "metadata": {
        "id": "s455THtJsZS9",
        "colab_type": "code",
        "outputId": "a9723ab5-2529-494d-db40-7c880a6c4a2b",
        "colab": {
          "base_uri": "https://localhost:8080/",
          "height": 455
        }
      },
      "source": [
        "data"
      ],
      "execution_count": 20,
      "outputs": [
        {
          "output_type": "execute_result",
          "data": {
            "text/html": [
              "<div>\n",
              "<style scoped>\n",
              "    .dataframe tbody tr th:only-of-type {\n",
              "        vertical-align: middle;\n",
              "    }\n",
              "\n",
              "    .dataframe tbody tr th {\n",
              "        vertical-align: top;\n",
              "    }\n",
              "\n",
              "    .dataframe thead th {\n",
              "        text-align: right;\n",
              "    }\n",
              "</style>\n",
              "<table border=\"1\" class=\"dataframe\">\n",
              "  <thead>\n",
              "    <tr style=\"text-align: right;\">\n",
              "      <th></th>\n",
              "      <th>High</th>\n",
              "      <th>Low</th>\n",
              "      <th>Open</th>\n",
              "      <th>Close</th>\n",
              "      <th>Volume</th>\n",
              "      <th>Adj Close</th>\n",
              "      <th>lrets</th>\n",
              "      <th>MACD</th>\n",
              "      <th>stochastics</th>\n",
              "      <th>ATR</th>\n",
              "    </tr>\n",
              "    <tr>\n",
              "      <th>Date</th>\n",
              "      <th></th>\n",
              "      <th></th>\n",
              "      <th></th>\n",
              "      <th></th>\n",
              "      <th></th>\n",
              "      <th></th>\n",
              "      <th></th>\n",
              "      <th></th>\n",
              "      <th></th>\n",
              "      <th></th>\n",
              "    </tr>\n",
              "  </thead>\n",
              "  <tbody>\n",
              "    <tr>\n",
              "      <th>2010-01-06</th>\n",
              "      <td>348.899994</td>\n",
              "      <td>330.350006</td>\n",
              "      <td>332.000000</td>\n",
              "      <td>344.899994</td>\n",
              "      <td>3580916.0</td>\n",
              "      <td>326.497986</td>\n",
              "      <td>0.039627</td>\n",
              "      <td>0.000000</td>\n",
              "      <td>NaN</td>\n",
              "      <td>18.549988</td>\n",
              "    </tr>\n",
              "    <tr>\n",
              "      <th>2010-01-07</th>\n",
              "      <td>350.399994</td>\n",
              "      <td>340.500000</td>\n",
              "      <td>346.000000</td>\n",
              "      <td>342.049988</td>\n",
              "      <td>1555841.0</td>\n",
              "      <td>323.800049</td>\n",
              "      <td>-0.008298</td>\n",
              "      <td>-0.028672</td>\n",
              "      <td>NaN</td>\n",
              "      <td>9.899994</td>\n",
              "    </tr>\n",
              "    <tr>\n",
              "      <th>2010-01-08</th>\n",
              "      <td>346.500000</td>\n",
              "      <td>340.200012</td>\n",
              "      <td>345.000000</td>\n",
              "      <td>341.100006</td>\n",
              "      <td>913410.0</td>\n",
              "      <td>322.900757</td>\n",
              "      <td>-0.002781</td>\n",
              "      <td>-0.046162</td>\n",
              "      <td>NaN</td>\n",
              "      <td>6.299988</td>\n",
              "    </tr>\n",
              "    <tr>\n",
              "      <th>2010-01-11</th>\n",
              "      <td>346.200012</td>\n",
              "      <td>341.000000</td>\n",
              "      <td>343.799988</td>\n",
              "      <td>342.299988</td>\n",
              "      <td>741426.0</td>\n",
              "      <td>324.036713</td>\n",
              "      <td>0.003512</td>\n",
              "      <td>-0.016175</td>\n",
              "      <td>NaN</td>\n",
              "      <td>5.200012</td>\n",
              "    </tr>\n",
              "    <tr>\n",
              "      <th>2010-01-12</th>\n",
              "      <td>344.399994</td>\n",
              "      <td>336.549988</td>\n",
              "      <td>342.299988</td>\n",
              "      <td>339.649994</td>\n",
              "      <td>1083070.0</td>\n",
              "      <td>321.528076</td>\n",
              "      <td>-0.007772</td>\n",
              "      <td>-0.076782</td>\n",
              "      <td>NaN</td>\n",
              "      <td>7.850006</td>\n",
              "    </tr>\n",
              "    <tr>\n",
              "      <th>...</th>\n",
              "      <td>...</td>\n",
              "      <td>...</td>\n",
              "      <td>...</td>\n",
              "      <td>...</td>\n",
              "      <td>...</td>\n",
              "      <td>...</td>\n",
              "      <td>...</td>\n",
              "      <td>...</td>\n",
              "      <td>...</td>\n",
              "      <td>...</td>\n",
              "    </tr>\n",
              "    <tr>\n",
              "      <th>2020-01-21</th>\n",
              "      <td>479.549988</td>\n",
              "      <td>472.200012</td>\n",
              "      <td>478.950012</td>\n",
              "      <td>473.399994</td>\n",
              "      <td>1448808.0</td>\n",
              "      <td>473.399994</td>\n",
              "      <td>-0.014158</td>\n",
              "      <td>0.469529</td>\n",
              "      <td>44.358943</td>\n",
              "      <td>7.949982</td>\n",
              "    </tr>\n",
              "    <tr>\n",
              "      <th>2020-01-22</th>\n",
              "      <td>480.299988</td>\n",
              "      <td>470.250000</td>\n",
              "      <td>474.500000</td>\n",
              "      <td>471.600006</td>\n",
              "      <td>2380518.0</td>\n",
              "      <td>471.600006</td>\n",
              "      <td>-0.003810</td>\n",
              "      <td>-0.144524</td>\n",
              "      <td>35.128236</td>\n",
              "      <td>10.049988</td>\n",
              "    </tr>\n",
              "    <tr>\n",
              "      <th>2020-01-23</th>\n",
              "      <td>475.850006</td>\n",
              "      <td>459.350006</td>\n",
              "      <td>464.500000</td>\n",
              "      <td>465.149994</td>\n",
              "      <td>5783699.0</td>\n",
              "      <td>465.149994</td>\n",
              "      <td>-0.013771</td>\n",
              "      <td>-1.062825</td>\n",
              "      <td>2.051251</td>\n",
              "      <td>16.500000</td>\n",
              "    </tr>\n",
              "    <tr>\n",
              "      <th>2020-01-27</th>\n",
              "      <td>466.500000</td>\n",
              "      <td>454.200012</td>\n",
              "      <td>457.500000</td>\n",
              "      <td>464.450012</td>\n",
              "      <td>5848968.0</td>\n",
              "      <td>464.450012</td>\n",
              "      <td>-0.001506</td>\n",
              "      <td>-1.752324</td>\n",
              "      <td>0.000000</td>\n",
              "      <td>12.299988</td>\n",
              "    </tr>\n",
              "    <tr>\n",
              "      <th>2020-01-28</th>\n",
              "      <td>468.000000</td>\n",
              "      <td>458.950012</td>\n",
              "      <td>465.000000</td>\n",
              "      <td>464.250000</td>\n",
              "      <td>1032549.0</td>\n",
              "      <td>464.250000</td>\n",
              "      <td>-0.000431</td>\n",
              "      <td>-2.220595</td>\n",
              "      <td>0.000000</td>\n",
              "      <td>9.049988</td>\n",
              "    </tr>\n",
              "  </tbody>\n",
              "</table>\n",
              "<p>2478 rows × 10 columns</p>\n",
              "</div>"
            ],
            "text/plain": [
              "                  High         Low  ...  stochastics        ATR\n",
              "Date                                ...                        \n",
              "2010-01-06  348.899994  330.350006  ...          NaN  18.549988\n",
              "2010-01-07  350.399994  340.500000  ...          NaN   9.899994\n",
              "2010-01-08  346.500000  340.200012  ...          NaN   6.299988\n",
              "2010-01-11  346.200012  341.000000  ...          NaN   5.200012\n",
              "2010-01-12  344.399994  336.549988  ...          NaN   7.850006\n",
              "...                ...         ...  ...          ...        ...\n",
              "2020-01-21  479.549988  472.200012  ...    44.358943   7.949982\n",
              "2020-01-22  480.299988  470.250000  ...    35.128236  10.049988\n",
              "2020-01-23  475.850006  459.350006  ...     2.051251  16.500000\n",
              "2020-01-27  466.500000  454.200012  ...     0.000000  12.299988\n",
              "2020-01-28  468.000000  458.950012  ...     0.000000   9.049988\n",
              "\n",
              "[2478 rows x 10 columns]"
            ]
          },
          "metadata": {
            "tags": []
          },
          "execution_count": 20
        }
      ]
    },
    {
      "cell_type": "code",
      "metadata": {
        "id": "B-HewocPsfUz",
        "colab_type": "code",
        "outputId": "ad97b74a-b8e3-4f48-8acc-530834c15904",
        "colab": {
          "base_uri": "https://localhost:8080/",
          "height": 455
        }
      },
      "source": [
        "data.dropna(axis=0, inplace=True)\n",
        "data"
      ],
      "execution_count": 21,
      "outputs": [
        {
          "output_type": "execute_result",
          "data": {
            "text/html": [
              "<div>\n",
              "<style scoped>\n",
              "    .dataframe tbody tr th:only-of-type {\n",
              "        vertical-align: middle;\n",
              "    }\n",
              "\n",
              "    .dataframe tbody tr th {\n",
              "        vertical-align: top;\n",
              "    }\n",
              "\n",
              "    .dataframe thead th {\n",
              "        text-align: right;\n",
              "    }\n",
              "</style>\n",
              "<table border=\"1\" class=\"dataframe\">\n",
              "  <thead>\n",
              "    <tr style=\"text-align: right;\">\n",
              "      <th></th>\n",
              "      <th>High</th>\n",
              "      <th>Low</th>\n",
              "      <th>Open</th>\n",
              "      <th>Close</th>\n",
              "      <th>Volume</th>\n",
              "      <th>Adj Close</th>\n",
              "      <th>lrets</th>\n",
              "      <th>MACD</th>\n",
              "      <th>stochastics</th>\n",
              "      <th>ATR</th>\n",
              "    </tr>\n",
              "    <tr>\n",
              "      <th>Date</th>\n",
              "      <th></th>\n",
              "      <th></th>\n",
              "      <th></th>\n",
              "      <th></th>\n",
              "      <th></th>\n",
              "      <th></th>\n",
              "      <th></th>\n",
              "      <th></th>\n",
              "      <th></th>\n",
              "      <th></th>\n",
              "    </tr>\n",
              "  </thead>\n",
              "  <tbody>\n",
              "    <tr>\n",
              "      <th>2010-01-25</th>\n",
              "      <td>332.700012</td>\n",
              "      <td>320.000000</td>\n",
              "      <td>325.000000</td>\n",
              "      <td>326.950012</td>\n",
              "      <td>527544.0</td>\n",
              "      <td>309.505737</td>\n",
              "      <td>-0.010194</td>\n",
              "      <td>-1.208561</td>\n",
              "      <td>0.000000</td>\n",
              "      <td>12.700012</td>\n",
              "    </tr>\n",
              "    <tr>\n",
              "      <th>2010-01-27</th>\n",
              "      <td>326.850006</td>\n",
              "      <td>310.000000</td>\n",
              "      <td>326.000000</td>\n",
              "      <td>313.500000</td>\n",
              "      <td>1479710.0</td>\n",
              "      <td>296.773315</td>\n",
              "      <td>-0.042008</td>\n",
              "      <td>-2.130173</td>\n",
              "      <td>0.000000</td>\n",
              "      <td>16.950012</td>\n",
              "    </tr>\n",
              "    <tr>\n",
              "      <th>2010-01-28</th>\n",
              "      <td>328.000000</td>\n",
              "      <td>314.200012</td>\n",
              "      <td>316.100006</td>\n",
              "      <td>317.850006</td>\n",
              "      <td>2473512.0</td>\n",
              "      <td>300.891205</td>\n",
              "      <td>0.013780</td>\n",
              "      <td>-2.437950</td>\n",
              "      <td>11.852789</td>\n",
              "      <td>14.500000</td>\n",
              "    </tr>\n",
              "    <tr>\n",
              "      <th>2010-01-29</th>\n",
              "      <td>323.750000</td>\n",
              "      <td>303.000000</td>\n",
              "      <td>318.100006</td>\n",
              "      <td>317.200012</td>\n",
              "      <td>2282638.0</td>\n",
              "      <td>300.275940</td>\n",
              "      <td>-0.002047</td>\n",
              "      <td>-2.578116</td>\n",
              "      <td>10.081832</td>\n",
              "      <td>20.750000</td>\n",
              "    </tr>\n",
              "    <tr>\n",
              "      <th>2010-02-01</th>\n",
              "      <td>327.899994</td>\n",
              "      <td>316.500000</td>\n",
              "      <td>319.000000</td>\n",
              "      <td>326.049988</td>\n",
              "      <td>964639.0</td>\n",
              "      <td>308.653717</td>\n",
              "      <td>0.027518</td>\n",
              "      <td>-2.099757</td>\n",
              "      <td>34.196134</td>\n",
              "      <td>11.399994</td>\n",
              "    </tr>\n",
              "    <tr>\n",
              "      <th>...</th>\n",
              "      <td>...</td>\n",
              "      <td>...</td>\n",
              "      <td>...</td>\n",
              "      <td>...</td>\n",
              "      <td>...</td>\n",
              "      <td>...</td>\n",
              "      <td>...</td>\n",
              "      <td>...</td>\n",
              "      <td>...</td>\n",
              "      <td>...</td>\n",
              "    </tr>\n",
              "    <tr>\n",
              "      <th>2020-01-21</th>\n",
              "      <td>479.549988</td>\n",
              "      <td>472.200012</td>\n",
              "      <td>478.950012</td>\n",
              "      <td>473.399994</td>\n",
              "      <td>1448808.0</td>\n",
              "      <td>473.399994</td>\n",
              "      <td>-0.014158</td>\n",
              "      <td>0.469529</td>\n",
              "      <td>44.358943</td>\n",
              "      <td>7.949982</td>\n",
              "    </tr>\n",
              "    <tr>\n",
              "      <th>2020-01-22</th>\n",
              "      <td>480.299988</td>\n",
              "      <td>470.250000</td>\n",
              "      <td>474.500000</td>\n",
              "      <td>471.600006</td>\n",
              "      <td>2380518.0</td>\n",
              "      <td>471.600006</td>\n",
              "      <td>-0.003810</td>\n",
              "      <td>-0.144524</td>\n",
              "      <td>35.128236</td>\n",
              "      <td>10.049988</td>\n",
              "    </tr>\n",
              "    <tr>\n",
              "      <th>2020-01-23</th>\n",
              "      <td>475.850006</td>\n",
              "      <td>459.350006</td>\n",
              "      <td>464.500000</td>\n",
              "      <td>465.149994</td>\n",
              "      <td>5783699.0</td>\n",
              "      <td>465.149994</td>\n",
              "      <td>-0.013771</td>\n",
              "      <td>-1.062825</td>\n",
              "      <td>2.051251</td>\n",
              "      <td>16.500000</td>\n",
              "    </tr>\n",
              "    <tr>\n",
              "      <th>2020-01-27</th>\n",
              "      <td>466.500000</td>\n",
              "      <td>454.200012</td>\n",
              "      <td>457.500000</td>\n",
              "      <td>464.450012</td>\n",
              "      <td>5848968.0</td>\n",
              "      <td>464.450012</td>\n",
              "      <td>-0.001506</td>\n",
              "      <td>-1.752324</td>\n",
              "      <td>0.000000</td>\n",
              "      <td>12.299988</td>\n",
              "    </tr>\n",
              "    <tr>\n",
              "      <th>2020-01-28</th>\n",
              "      <td>468.000000</td>\n",
              "      <td>458.950012</td>\n",
              "      <td>465.000000</td>\n",
              "      <td>464.250000</td>\n",
              "      <td>1032549.0</td>\n",
              "      <td>464.250000</td>\n",
              "      <td>-0.000431</td>\n",
              "      <td>-2.220595</td>\n",
              "      <td>0.000000</td>\n",
              "      <td>9.049988</td>\n",
              "    </tr>\n",
              "  </tbody>\n",
              "</table>\n",
              "<p>2465 rows × 10 columns</p>\n",
              "</div>"
            ],
            "text/plain": [
              "                  High         Low  ...  stochastics        ATR\n",
              "Date                                ...                        \n",
              "2010-01-25  332.700012  320.000000  ...     0.000000  12.700012\n",
              "2010-01-27  326.850006  310.000000  ...     0.000000  16.950012\n",
              "2010-01-28  328.000000  314.200012  ...    11.852789  14.500000\n",
              "2010-01-29  323.750000  303.000000  ...    10.081832  20.750000\n",
              "2010-02-01  327.899994  316.500000  ...    34.196134  11.399994\n",
              "...                ...         ...  ...          ...        ...\n",
              "2020-01-21  479.549988  472.200012  ...    44.358943   7.949982\n",
              "2020-01-22  480.299988  470.250000  ...    35.128236  10.049988\n",
              "2020-01-23  475.850006  459.350006  ...     2.051251  16.500000\n",
              "2020-01-27  466.500000  454.200012  ...     0.000000  12.299988\n",
              "2020-01-28  468.000000  458.950012  ...     0.000000   9.049988\n",
              "\n",
              "[2465 rows x 10 columns]"
            ]
          },
          "metadata": {
            "tags": []
          },
          "execution_count": 21
        }
      ]
    },
    {
      "cell_type": "code",
      "metadata": {
        "id": "s5LiKADj5CXE",
        "colab_type": "code",
        "outputId": "cb372f8b-38d2-4df2-ce21-77c608275565",
        "colab": {
          "base_uri": "https://localhost:8080/",
          "height": 237
        }
      },
      "source": [
        "data.drop(['Open', 'High', 'Low', 'Close'], axis=1, inplace=True)\n",
        "data.head()"
      ],
      "execution_count": 22,
      "outputs": [
        {
          "output_type": "execute_result",
          "data": {
            "text/html": [
              "<div>\n",
              "<style scoped>\n",
              "    .dataframe tbody tr th:only-of-type {\n",
              "        vertical-align: middle;\n",
              "    }\n",
              "\n",
              "    .dataframe tbody tr th {\n",
              "        vertical-align: top;\n",
              "    }\n",
              "\n",
              "    .dataframe thead th {\n",
              "        text-align: right;\n",
              "    }\n",
              "</style>\n",
              "<table border=\"1\" class=\"dataframe\">\n",
              "  <thead>\n",
              "    <tr style=\"text-align: right;\">\n",
              "      <th></th>\n",
              "      <th>Volume</th>\n",
              "      <th>Adj Close</th>\n",
              "      <th>lrets</th>\n",
              "      <th>MACD</th>\n",
              "      <th>stochastics</th>\n",
              "      <th>ATR</th>\n",
              "    </tr>\n",
              "    <tr>\n",
              "      <th>Date</th>\n",
              "      <th></th>\n",
              "      <th></th>\n",
              "      <th></th>\n",
              "      <th></th>\n",
              "      <th></th>\n",
              "      <th></th>\n",
              "    </tr>\n",
              "  </thead>\n",
              "  <tbody>\n",
              "    <tr>\n",
              "      <th>2010-01-25</th>\n",
              "      <td>527544.0</td>\n",
              "      <td>309.505737</td>\n",
              "      <td>-0.010194</td>\n",
              "      <td>-1.208561</td>\n",
              "      <td>0.000000</td>\n",
              "      <td>12.700012</td>\n",
              "    </tr>\n",
              "    <tr>\n",
              "      <th>2010-01-27</th>\n",
              "      <td>1479710.0</td>\n",
              "      <td>296.773315</td>\n",
              "      <td>-0.042008</td>\n",
              "      <td>-2.130173</td>\n",
              "      <td>0.000000</td>\n",
              "      <td>16.950012</td>\n",
              "    </tr>\n",
              "    <tr>\n",
              "      <th>2010-01-28</th>\n",
              "      <td>2473512.0</td>\n",
              "      <td>300.891205</td>\n",
              "      <td>0.013780</td>\n",
              "      <td>-2.437950</td>\n",
              "      <td>11.852789</td>\n",
              "      <td>14.500000</td>\n",
              "    </tr>\n",
              "    <tr>\n",
              "      <th>2010-01-29</th>\n",
              "      <td>2282638.0</td>\n",
              "      <td>300.275940</td>\n",
              "      <td>-0.002047</td>\n",
              "      <td>-2.578116</td>\n",
              "      <td>10.081832</td>\n",
              "      <td>20.750000</td>\n",
              "    </tr>\n",
              "    <tr>\n",
              "      <th>2010-02-01</th>\n",
              "      <td>964639.0</td>\n",
              "      <td>308.653717</td>\n",
              "      <td>0.027518</td>\n",
              "      <td>-2.099757</td>\n",
              "      <td>34.196134</td>\n",
              "      <td>11.399994</td>\n",
              "    </tr>\n",
              "  </tbody>\n",
              "</table>\n",
              "</div>"
            ],
            "text/plain": [
              "               Volume   Adj Close     lrets      MACD  stochastics        ATR\n",
              "Date                                                                         \n",
              "2010-01-25   527544.0  309.505737 -0.010194 -1.208561     0.000000  12.700012\n",
              "2010-01-27  1479710.0  296.773315 -0.042008 -2.130173     0.000000  16.950012\n",
              "2010-01-28  2473512.0  300.891205  0.013780 -2.437950    11.852789  14.500000\n",
              "2010-01-29  2282638.0  300.275940 -0.002047 -2.578116    10.081832  20.750000\n",
              "2010-02-01   964639.0  308.653717  0.027518 -2.099757    34.196134  11.399994"
            ]
          },
          "metadata": {
            "tags": []
          },
          "execution_count": 22
        }
      ]
    },
    {
      "cell_type": "code",
      "metadata": {
        "id": "LEAiOU2Q5MeD",
        "colab_type": "code",
        "colab": {}
      },
      "source": [
        "import pandas as pd\n",
        "import numpy as np\n",
        "import random\n",
        "\n",
        "import tensorflow as tf\n",
        "from tensorflow.keras.models import Sequential\n",
        "from tensorflow.keras.layers import Dense, Dropout, LSTM, CuDNNLSTM, BatchNormalization\n",
        "from tensorflow.keras.callbacks import TensorBoard\n",
        "from tensorflow.keras.callbacks import ModelCheckpoint\n",
        "from tensorflow.keras.callbacks import Callback\n",
        "import tensorflow.keras.backend as K\n",
        "\n",
        "import math\n",
        "from sklearn.preprocessing import RobustScaler\n",
        "from collections import deque\n",
        "\n",
        "import matplotlib.pyplot as plt\n",
        "import seaborn as sns\n",
        "%matplotlib inline"
      ],
      "execution_count": 0,
      "outputs": []
    },
    {
      "cell_type": "code",
      "metadata": {
        "id": "qaSBhIQZ5z8A",
        "colab_type": "code",
        "outputId": "145317dd-1c58-42ac-8767-1346959f5a7e",
        "colab": {
          "base_uri": "https://localhost:8080/",
          "height": 455
        }
      },
      "source": [
        "data['Y'] = data.lrets.shift(-1)\n",
        "data.dropna(axis=0, inplace=True)\n",
        "data"
      ],
      "execution_count": 24,
      "outputs": [
        {
          "output_type": "execute_result",
          "data": {
            "text/html": [
              "<div>\n",
              "<style scoped>\n",
              "    .dataframe tbody tr th:only-of-type {\n",
              "        vertical-align: middle;\n",
              "    }\n",
              "\n",
              "    .dataframe tbody tr th {\n",
              "        vertical-align: top;\n",
              "    }\n",
              "\n",
              "    .dataframe thead th {\n",
              "        text-align: right;\n",
              "    }\n",
              "</style>\n",
              "<table border=\"1\" class=\"dataframe\">\n",
              "  <thead>\n",
              "    <tr style=\"text-align: right;\">\n",
              "      <th></th>\n",
              "      <th>Volume</th>\n",
              "      <th>Adj Close</th>\n",
              "      <th>lrets</th>\n",
              "      <th>MACD</th>\n",
              "      <th>stochastics</th>\n",
              "      <th>ATR</th>\n",
              "      <th>Y</th>\n",
              "    </tr>\n",
              "    <tr>\n",
              "      <th>Date</th>\n",
              "      <th></th>\n",
              "      <th></th>\n",
              "      <th></th>\n",
              "      <th></th>\n",
              "      <th></th>\n",
              "      <th></th>\n",
              "      <th></th>\n",
              "    </tr>\n",
              "  </thead>\n",
              "  <tbody>\n",
              "    <tr>\n",
              "      <th>2010-01-25</th>\n",
              "      <td>527544.0</td>\n",
              "      <td>309.505737</td>\n",
              "      <td>-0.010194</td>\n",
              "      <td>-1.208561</td>\n",
              "      <td>0.000000</td>\n",
              "      <td>12.700012</td>\n",
              "      <td>-0.042008</td>\n",
              "    </tr>\n",
              "    <tr>\n",
              "      <th>2010-01-27</th>\n",
              "      <td>1479710.0</td>\n",
              "      <td>296.773315</td>\n",
              "      <td>-0.042008</td>\n",
              "      <td>-2.130173</td>\n",
              "      <td>0.000000</td>\n",
              "      <td>16.950012</td>\n",
              "      <td>0.013780</td>\n",
              "    </tr>\n",
              "    <tr>\n",
              "      <th>2010-01-28</th>\n",
              "      <td>2473512.0</td>\n",
              "      <td>300.891205</td>\n",
              "      <td>0.013780</td>\n",
              "      <td>-2.437950</td>\n",
              "      <td>11.852789</td>\n",
              "      <td>14.500000</td>\n",
              "      <td>-0.002047</td>\n",
              "    </tr>\n",
              "    <tr>\n",
              "      <th>2010-01-29</th>\n",
              "      <td>2282638.0</td>\n",
              "      <td>300.275940</td>\n",
              "      <td>-0.002047</td>\n",
              "      <td>-2.578116</td>\n",
              "      <td>10.081832</td>\n",
              "      <td>20.750000</td>\n",
              "      <td>0.027518</td>\n",
              "    </tr>\n",
              "    <tr>\n",
              "      <th>2010-02-01</th>\n",
              "      <td>964639.0</td>\n",
              "      <td>308.653717</td>\n",
              "      <td>0.027518</td>\n",
              "      <td>-2.099757</td>\n",
              "      <td>34.196134</td>\n",
              "      <td>11.399994</td>\n",
              "      <td>-0.038454</td>\n",
              "    </tr>\n",
              "    <tr>\n",
              "      <th>...</th>\n",
              "      <td>...</td>\n",
              "      <td>...</td>\n",
              "      <td>...</td>\n",
              "      <td>...</td>\n",
              "      <td>...</td>\n",
              "      <td>...</td>\n",
              "      <td>...</td>\n",
              "    </tr>\n",
              "    <tr>\n",
              "      <th>2020-01-20</th>\n",
              "      <td>1206931.0</td>\n",
              "      <td>480.149994</td>\n",
              "      <td>-0.000312</td>\n",
              "      <td>1.097539</td>\n",
              "      <td>78.974328</td>\n",
              "      <td>6.500000</td>\n",
              "      <td>-0.014158</td>\n",
              "    </tr>\n",
              "    <tr>\n",
              "      <th>2020-01-21</th>\n",
              "      <td>1448808.0</td>\n",
              "      <td>473.399994</td>\n",
              "      <td>-0.014158</td>\n",
              "      <td>0.469529</td>\n",
              "      <td>44.358943</td>\n",
              "      <td>7.949982</td>\n",
              "      <td>-0.003810</td>\n",
              "    </tr>\n",
              "    <tr>\n",
              "      <th>2020-01-22</th>\n",
              "      <td>2380518.0</td>\n",
              "      <td>471.600006</td>\n",
              "      <td>-0.003810</td>\n",
              "      <td>-0.144524</td>\n",
              "      <td>35.128236</td>\n",
              "      <td>10.049988</td>\n",
              "      <td>-0.013771</td>\n",
              "    </tr>\n",
              "    <tr>\n",
              "      <th>2020-01-23</th>\n",
              "      <td>5783699.0</td>\n",
              "      <td>465.149994</td>\n",
              "      <td>-0.013771</td>\n",
              "      <td>-1.062825</td>\n",
              "      <td>2.051251</td>\n",
              "      <td>16.500000</td>\n",
              "      <td>-0.001506</td>\n",
              "    </tr>\n",
              "    <tr>\n",
              "      <th>2020-01-27</th>\n",
              "      <td>5848968.0</td>\n",
              "      <td>464.450012</td>\n",
              "      <td>-0.001506</td>\n",
              "      <td>-1.752324</td>\n",
              "      <td>0.000000</td>\n",
              "      <td>12.299988</td>\n",
              "      <td>-0.000431</td>\n",
              "    </tr>\n",
              "  </tbody>\n",
              "</table>\n",
              "<p>2464 rows × 7 columns</p>\n",
              "</div>"
            ],
            "text/plain": [
              "               Volume   Adj Close     lrets  ...  stochastics        ATR         Y\n",
              "Date                                         ...                                  \n",
              "2010-01-25   527544.0  309.505737 -0.010194  ...     0.000000  12.700012 -0.042008\n",
              "2010-01-27  1479710.0  296.773315 -0.042008  ...     0.000000  16.950012  0.013780\n",
              "2010-01-28  2473512.0  300.891205  0.013780  ...    11.852789  14.500000 -0.002047\n",
              "2010-01-29  2282638.0  300.275940 -0.002047  ...    10.081832  20.750000  0.027518\n",
              "2010-02-01   964639.0  308.653717  0.027518  ...    34.196134  11.399994 -0.038454\n",
              "...               ...         ...       ...  ...          ...        ...       ...\n",
              "2020-01-20  1206931.0  480.149994 -0.000312  ...    78.974328   6.500000 -0.014158\n",
              "2020-01-21  1448808.0  473.399994 -0.014158  ...    44.358943   7.949982 -0.003810\n",
              "2020-01-22  2380518.0  471.600006 -0.003810  ...    35.128236  10.049988 -0.013771\n",
              "2020-01-23  5783699.0  465.149994 -0.013771  ...     2.051251  16.500000 -0.001506\n",
              "2020-01-27  5848968.0  464.450012 -0.001506  ...     0.000000  12.299988 -0.000431\n",
              "\n",
              "[2464 rows x 7 columns]"
            ]
          },
          "metadata": {
            "tags": []
          },
          "execution_count": 24
        }
      ]
    },
    {
      "cell_type": "code",
      "metadata": {
        "id": "bxYGQePo5-He",
        "colab_type": "code",
        "outputId": "eac33df8-0e72-418d-fa85-18c4abe5cbec",
        "colab": {
          "base_uri": "https://localhost:8080/",
          "height": 344
        }
      },
      "source": [
        "corr = data.corr('pearson')\n",
        "f, ax = plt.subplots(figsize=(5, 4))\n",
        "plt.title(\"Correlation between variables\")\n",
        "sns.heatmap(corr, \n",
        "            xticklabels=corr.columns.values,\n",
        "            yticklabels=corr.columns.values)"
      ],
      "execution_count": 25,
      "outputs": [
        {
          "output_type": "execute_result",
          "data": {
            "text/plain": [
              "<matplotlib.axes._subplots.AxesSubplot at 0x7f877de58668>"
            ]
          },
          "metadata": {
            "tags": []
          },
          "execution_count": 25
        },
        {
          "output_type": "display_data",
          "data": {
            "image/png": "[encoded data removed]",
            "text/plain": [
              "<Figure size 360x288 with 2 Axes>"
            ]
          },
          "metadata": {
            "tags": []
          }
        }
      ]
    },
    {
      "cell_type": "code",
      "metadata": {
        "id": "c1CPb3io6GzS",
        "colab_type": "code",
        "outputId": "4e59481b-71e0-4b45-c409-e2aeeeb640b9",
        "colab": {
          "base_uri": "https://localhost:8080/",
          "height": 269
        }
      },
      "source": [
        "corr"
      ],
      "execution_count": 26,
      "outputs": [
        {
          "output_type": "execute_result",
          "data": {
            "text/html": [
              "<div>\n",
              "<style scoped>\n",
              "    .dataframe tbody tr th:only-of-type {\n",
              "        vertical-align: middle;\n",
              "    }\n",
              "\n",
              "    .dataframe tbody tr th {\n",
              "        vertical-align: top;\n",
              "    }\n",
              "\n",
              "    .dataframe thead th {\n",
              "        text-align: right;\n",
              "    }\n",
              "</style>\n",
              "<table border=\"1\" class=\"dataframe\">\n",
              "  <thead>\n",
              "    <tr style=\"text-align: right;\">\n",
              "      <th></th>\n",
              "      <th>Volume</th>\n",
              "      <th>Adj Close</th>\n",
              "      <th>lrets</th>\n",
              "      <th>MACD</th>\n",
              "      <th>stochastics</th>\n",
              "      <th>ATR</th>\n",
              "      <th>Y</th>\n",
              "    </tr>\n",
              "  </thead>\n",
              "  <tbody>\n",
              "    <tr>\n",
              "      <th>Volume</th>\n",
              "      <td>1.000000</td>\n",
              "      <td>0.133424</td>\n",
              "      <td>0.043371</td>\n",
              "      <td>-0.049432</td>\n",
              "      <td>-0.003231</td>\n",
              "      <td>0.548133</td>\n",
              "      <td>0.003238</td>\n",
              "    </tr>\n",
              "    <tr>\n",
              "      <th>Adj Close</th>\n",
              "      <td>0.133424</td>\n",
              "      <td>1.000000</td>\n",
              "      <td>0.022916</td>\n",
              "      <td>0.008945</td>\n",
              "      <td>0.073156</td>\n",
              "      <td>0.485987</td>\n",
              "      <td>-0.036855</td>\n",
              "    </tr>\n",
              "    <tr>\n",
              "      <th>lrets</th>\n",
              "      <td>0.043371</td>\n",
              "      <td>0.022916</td>\n",
              "      <td>1.000000</td>\n",
              "      <td>0.120749</td>\n",
              "      <td>0.442549</td>\n",
              "      <td>-0.026595</td>\n",
              "      <td>-0.033855</td>\n",
              "    </tr>\n",
              "    <tr>\n",
              "      <th>MACD</th>\n",
              "      <td>-0.049432</td>\n",
              "      <td>0.008945</td>\n",
              "      <td>0.120749</td>\n",
              "      <td>1.000000</td>\n",
              "      <td>0.649218</td>\n",
              "      <td>-0.109754</td>\n",
              "      <td>-0.009569</td>\n",
              "    </tr>\n",
              "    <tr>\n",
              "      <th>stochastics</th>\n",
              "      <td>-0.003231</td>\n",
              "      <td>0.073156</td>\n",
              "      <td>0.442549</td>\n",
              "      <td>0.649218</td>\n",
              "      <td>1.000000</td>\n",
              "      <td>-0.042678</td>\n",
              "      <td>-0.021052</td>\n",
              "    </tr>\n",
              "    <tr>\n",
              "      <th>ATR</th>\n",
              "      <td>0.548133</td>\n",
              "      <td>0.485987</td>\n",
              "      <td>-0.026595</td>\n",
              "      <td>-0.109754</td>\n",
              "      <td>-0.042678</td>\n",
              "      <td>1.000000</td>\n",
              "      <td>-0.024669</td>\n",
              "    </tr>\n",
              "    <tr>\n",
              "      <th>Y</th>\n",
              "      <td>0.003238</td>\n",
              "      <td>-0.036855</td>\n",
              "      <td>-0.033855</td>\n",
              "      <td>-0.009569</td>\n",
              "      <td>-0.021052</td>\n",
              "      <td>-0.024669</td>\n",
              "      <td>1.000000</td>\n",
              "    </tr>\n",
              "  </tbody>\n",
              "</table>\n",
              "</div>"
            ],
            "text/plain": [
              "               Volume  Adj Close     lrets  ...  stochastics       ATR         Y\n",
              "Volume       1.000000   0.133424  0.043371  ...    -0.003231  0.548133  0.003238\n",
              "Adj Close    0.133424   1.000000  0.022916  ...     0.073156  0.485987 -0.036855\n",
              "lrets        0.043371   0.022916  1.000000  ...     0.442549 -0.026595 -0.033855\n",
              "MACD        -0.049432   0.008945  0.120749  ...     0.649218 -0.109754 -0.009569\n",
              "stochastics -0.003231   0.073156  0.442549  ...     1.000000 -0.042678 -0.021052\n",
              "ATR          0.548133   0.485987 -0.026595  ...    -0.042678  1.000000 -0.024669\n",
              "Y            0.003238  -0.036855 -0.033855  ...    -0.021052 -0.024669  1.000000\n",
              "\n",
              "[7 rows x 7 columns]"
            ]
          },
          "metadata": {
            "tags": []
          },
          "execution_count": 26
        }
      ]
    }
  ]
}